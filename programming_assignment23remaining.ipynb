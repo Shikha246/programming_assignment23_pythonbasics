{
 "cells": [
  {
   "cell_type": "markdown",
   "id": "577295fb",
   "metadata": {},
   "source": [
    "Question 1\n",
    "\n",
    "\n",
    "Create a function that takes a number as an argument and returns True or False depending\n",
    "on whether the number is symmetrical or not. A number is symmetrical when it is the same as\n",
    "its reverse.\n",
    "\n",
    "\n",
    "Examples\n",
    "\n",
    "\n",
    "is_symmetrical(7227) ➞ True\n",
    "\n",
    "\n",
    "is_symmetrical(12567) ➞ False\n",
    "\n",
    "\n",
    "is_symmetrical(44444444) ➞ True\n",
    "\n",
    "\n",
    "is_symmetrical(9939) ➞ False\n",
    "\n",
    "\n",
    "is_symmetrical(1112111) ➞ True"
   ]
  },
  {
   "cell_type": "code",
   "execution_count": 12,
   "id": "b9a0c9ba",
   "metadata": {},
   "outputs": [],
   "source": [
    "def is_symmetrical(n):\n",
    "    \n",
    "    if n==n[::-1]:\n",
    "        return True\n",
    "    else:\n",
    "        return False\n",
    "        \n",
    "        \n",
    "        \n",
    "   "
   ]
  },
  {
   "cell_type": "code",
   "execution_count": 15,
   "id": "7272eaa6",
   "metadata": {},
   "outputs": [
    {
     "name": "stdout",
     "output_type": "stream",
     "text": [
      "Enter a number:1112111\n"
     ]
    },
    {
     "data": {
      "text/plain": [
       "True"
      ]
     },
     "execution_count": 15,
     "metadata": {},
     "output_type": "execute_result"
    }
   ],
   "source": [
    "is_symmetrical(input(\"Enter a number:\"))"
   ]
  },
  {
   "cell_type": "markdown",
   "id": "8503d300",
   "metadata": {},
   "source": [
    "Question 2\n",
    "\n",
    "\n",
    "Given a string of numbers separated by a comma and space, return the product of the\n",
    "numbers.\n",
    "\n",
    "\n",
    "Examples\n",
    "\n",
    "\n",
    "multiply_nums(\"2, 3\") ➞ 6\n",
    "\n",
    "\n",
    "multiply_nums(\"1, 2, 3, 4\") ➞ 24\n",
    "\n",
    "\n",
    "multiply_nums(\"54, 75, 453, 0\") ➞ 0\n",
    "\n",
    "\n",
    "multiply_nums(\"10, -2\") ➞ -20"
   ]
  },
  {
   "cell_type": "code",
   "execution_count": 23,
   "id": "08199ba4",
   "metadata": {},
   "outputs": [],
   "source": [
    "def multiply_nums(s):\n",
    "    s=s.replace(\", \",\"\")\n",
    "    mul=1\n",
    "    lens=len(s)\n",
    "    for i in range(lens):\n",
    "        mul*=int(s[i])\n",
    "    return mul\n",
    "        "
   ]
  },
  {
   "cell_type": "code",
   "execution_count": 27,
   "id": "48edb92d",
   "metadata": {},
   "outputs": [
    {
     "data": {
      "text/plain": [
       "24"
      ]
     },
     "execution_count": 27,
     "metadata": {},
     "output_type": "execute_result"
    }
   ],
   "source": [
    "multiply_nums(\"1, 2, 3, 4\")"
   ]
  },
  {
   "cell_type": "markdown",
   "id": "cdd4ed63",
   "metadata": {},
   "source": [
    "Question 3\n",
    "\n",
    "\n",
    "Create a function that squares every digit of a number.\n",
    "\n",
    "\n",
    "Examples\n",
    "\n",
    "\n",
    "square_digits(9119) ➞ 811181\n",
    "\n",
    "\n",
    "square_digits(2483) ➞ 416649\n",
    "\n",
    "\n",
    "square_digits(3212) ➞ 9414\n",
    "\n",
    "\n",
    "Notes\n",
    "The function receives an integer and must return an integer."
   ]
  },
  {
   "cell_type": "code",
   "execution_count": 54,
   "id": "f058a9ce",
   "metadata": {},
   "outputs": [],
   "source": [
    "def square_digits(n):\n",
    "\n",
    "    s=str(n)\n",
    "    li=[]\n",
    "    for i in range(len(s)):\n",
    "        sq=int(s[i])**2\n",
    "        li.append(str(sq))\n",
    "    num=\"\".join(li) \n",
    "    return int(num)\n",
    "        "
   ]
  },
  {
   "cell_type": "code",
   "execution_count": 57,
   "id": "412d5f10",
   "metadata": {},
   "outputs": [
    {
     "data": {
      "text/plain": [
       "9414"
      ]
     },
     "execution_count": 57,
     "metadata": {},
     "output_type": "execute_result"
    }
   ],
   "source": [
    "square_digits(3212)"
   ]
  },
  {
   "cell_type": "code",
   "execution_count": 58,
   "id": "09e59f40",
   "metadata": {},
   "outputs": [],
   "source": []
  },
  {
   "cell_type": "code",
   "execution_count": null,
   "id": "5ce68548",
   "metadata": {},
   "outputs": [],
   "source": []
  },
  {
   "cell_type": "markdown",
   "id": "115cb649",
   "metadata": {},
   "source": [
    "Question 4\n",
    "\n",
    "\n",
    "Create a function that sorts a list and removes all duplicate items from it.\n",
    "\n",
    "\n",
    "Examples\n",
    "\n",
    "\n",
    "setify([1, 3, 3, 5, 5]) ➞ [1, 3, 5]\n",
    "\n",
    "\n",
    "setify([4, 4, 4, 4]) ➞ [4]\n",
    "\n",
    "\n",
    "setify([5, 7, 8, 9, 10, 15]) ➞ [5, 7, 8, 9, 10, 15]\n",
    "\n",
    "\n",
    "setify([3, 3, 3, 2, 1]) ➞ [1, 2, 3]\n",
    "\n"
   ]
  },
  {
   "cell_type": "code",
   "execution_count": 32,
   "id": "299198ea",
   "metadata": {},
   "outputs": [],
   "source": [
    "def setify(l):\n",
    "    l.sort()\n",
    "    return list(set(l))"
   ]
  },
  {
   "cell_type": "code",
   "execution_count": 34,
   "id": "ce1e8aa5",
   "metadata": {},
   "outputs": [
    {
     "data": {
      "text/plain": [
       "[4]"
      ]
     },
     "execution_count": 34,
     "metadata": {},
     "output_type": "execute_result"
    }
   ],
   "source": [
    "setify([4, 4, 4, 4])"
   ]
  },
  {
   "cell_type": "markdown",
   "id": "c6031d85",
   "metadata": {},
   "source": [
    "Question 5\n",
    "\n",
    "\n",
    "Create a function that returns the mean of all digits.\n",
    "\n",
    "\n",
    "Examples\n",
    "\n",
    "\n",
    "mean(42) ➞ 3\n",
    "\n",
    "\n",
    "mean(12345) ➞ 3\n",
    "\n",
    "\n",
    "mean(666) ➞ 6\n",
    "\n",
    "\n",
    "Notes\n",
    " The mean of all digits is the sum of digits / how many digits there are (e.g. mean of digits in\n",
    "512 is (5+1+2)/3(number of digits) = 8/3=2).\n",
    "\n",
    "\n",
    " The mean will always be an integer."
   ]
  },
  {
   "cell_type": "code",
   "execution_count": 38,
   "id": "f6a74264",
   "metadata": {},
   "outputs": [],
   "source": [
    "def mean(n):\n",
    "    s=str(n)\n",
    "    sum1=0\n",
    "    for i in range(len(s)):\n",
    "        sum1+=int(s[i])\n",
    "    return int(sum1/len(s))"
   ]
  },
  {
   "cell_type": "code",
   "execution_count": 41,
   "id": "5e937711",
   "metadata": {},
   "outputs": [
    {
     "data": {
      "text/plain": [
       "3"
      ]
     },
     "execution_count": 41,
     "metadata": {},
     "output_type": "execute_result"
    }
   ],
   "source": [
    "mean(12345)"
   ]
  },
  {
   "cell_type": "code",
   "execution_count": null,
   "id": "9eb81659",
   "metadata": {},
   "outputs": [],
   "source": []
  }
 ],
 "metadata": {
  "kernelspec": {
   "display_name": "Python 3 (ipykernel)",
   "language": "python",
   "name": "python3"
  },
  "language_info": {
   "codemirror_mode": {
    "name": "ipython",
    "version": 3
   },
   "file_extension": ".py",
   "mimetype": "text/x-python",
   "name": "python",
   "nbconvert_exporter": "python",
   "pygments_lexer": "ipython3",
   "version": "3.9.7"
  }
 },
 "nbformat": 4,
 "nbformat_minor": 5
}
